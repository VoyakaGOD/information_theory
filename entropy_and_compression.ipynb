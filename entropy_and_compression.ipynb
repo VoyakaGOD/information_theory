{
 "cells": [
  {
   "cell_type": "code",
   "execution_count": 3,
   "id": "fa717909",
   "metadata": {},
   "outputs": [],
   "source": [
    "from collections import Counter\n",
    "from math import *\n",
    "\n",
    "def get_entropy(file_path : str):\n",
    "    with open(file_path, \"r\") as file:\n",
    "        data = file.read()\n",
    "    N = len(data)\n",
    "    ns = Counter(data)\n",
    "    H_byte = -sum((n/N)*log2(n/N) for n in ns.values())\n",
    "    H_total = N*H_byte\n",
    "    return H_byte, H_total"
   ]
  },
  {
   "cell_type": "code",
   "execution_count": 4,
   "id": "c2b6ca39",
   "metadata": {},
   "outputs": [
    {
     "name": "stdout",
     "output_type": "stream",
     "text": [
      "(5.052285855044346, 5375.632149767184)\n"
     ]
    }
   ],
   "source": [
    "print(get_entropy(\"content/MIT_license.txt\"))"
   ]
  }
 ],
 "metadata": {
  "kernelspec": {
   "display_name": "Python 3",
   "language": "python",
   "name": "python3"
  },
  "language_info": {
   "codemirror_mode": {
    "name": "ipython",
    "version": 3
   },
   "file_extension": ".py",
   "mimetype": "text/x-python",
   "name": "python",
   "nbconvert_exporter": "python",
   "pygments_lexer": "ipython3",
   "version": "3.12.2"
  }
 },
 "nbformat": 4,
 "nbformat_minor": 5
}
