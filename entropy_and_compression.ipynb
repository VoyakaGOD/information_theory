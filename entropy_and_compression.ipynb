{
 "cells": [
  {
   "cell_type": "code",
   "execution_count": null,
   "id": "fa717909",
   "metadata": {},
   "outputs": [],
   "source": [
    "from IPython.display import display, Math\n",
    "from collections import Counter\n",
    "from math import *\n",
    "\n",
    "def get_entropy(file_path : str):\n",
    "    with open(file_path, \"rb\") as file:\n",
    "        data = file.read()\n",
    "    N = len(data)\n",
    "    ns = Counter(data)\n",
    "    H_byte = -sum((n/N)*log2(n/N) for n in ns.values())\n",
    "    H_total = N*H_byte\n",
    "    return N, H_byte, H_total\n",
    "\n",
    "def handle(file_path : str):\n",
    "    N, H_byte, H_total = get_entropy(file_path)\n",
    "    display(Math(r\"H_{\\text{byte}} = %.2f \\text{ бит}\" % H_byte))\n",
    "    display(Math(r\"H_{\\text{total}} = %.2f \\text{ бит}\" % H_total))\n",
    "    display(Math(r\"\\text{Размер файла: } %d \\text{ бит}\" % (N*8)))"
   ]
  },
  {
   "cell_type": "markdown",
   "id": "c6e2c13a",
   "metadata": {},
   "source": [
    "Эта работа посвящена оценке влияния энтропии на сжатие файлов.\n",
    "\n",
    "Будет измеряться энтропия до и после сжатия."
   ]
  },
  {
   "cell_type": "code",
   "execution_count": 39,
   "id": "c2b6ca39",
   "metadata": {},
   "outputs": [
    {
     "data": {
      "text/latex": [
       "$\\displaystyle \\Large \\text{Лицензия MIT}$"
      ],
      "text/plain": [
       "<IPython.core.display.Math object>"
      ]
     },
     "metadata": {},
     "output_type": "display_data"
    },
    {
     "data": {
      "text/latex": [
       "$\\displaystyle H_{\\text{byte}} = 5.07 \\text{ бит}$"
      ],
      "text/plain": [
       "<IPython.core.display.Math object>"
      ]
     },
     "metadata": {},
     "output_type": "display_data"
    },
    {
     "data": {
      "text/latex": [
       "$\\displaystyle H_{\\text{total}} = 5429.13 \\text{ бит}$"
      ],
      "text/plain": [
       "<IPython.core.display.Math object>"
      ]
     },
     "metadata": {},
     "output_type": "display_data"
    },
    {
     "data": {
      "text/latex": [
       "$\\displaystyle \\text{Размер файла: } 8560 \\text{ бит}$"
      ],
      "text/plain": [
       "<IPython.core.display.Math object>"
      ]
     },
     "metadata": {},
     "output_type": "display_data"
    },
    {
     "data": {
      "text/latex": [
       "$\\displaystyle \\large \\text{MIT\\_license.7z}$"
      ],
      "text/plain": [
       "<IPython.core.display.Math object>"
      ]
     },
     "metadata": {},
     "output_type": "display_data"
    },
    {
     "data": {
      "text/latex": [
       "$\\displaystyle H_{\\text{byte}} = 7.53 \\text{ бит}$"
      ],
      "text/plain": [
       "<IPython.core.display.Math object>"
      ]
     },
     "metadata": {},
     "output_type": "display_data"
    },
    {
     "data": {
      "text/latex": [
       "$\\displaystyle H_{\\text{total}} = 6074.54 \\text{ бит}$"
      ],
      "text/plain": [
       "<IPython.core.display.Math object>"
      ]
     },
     "metadata": {},
     "output_type": "display_data"
    },
    {
     "data": {
      "text/latex": [
       "$\\displaystyle \\text{Размер файла: } 6456 \\text{ бит}$"
      ],
      "text/plain": [
       "<IPython.core.display.Math object>"
      ]
     },
     "metadata": {},
     "output_type": "display_data"
    },
    {
     "data": {
      "text/latex": [
       "$\\displaystyle \\large \\text{MIT\\_license.zip}$"
      ],
      "text/plain": [
       "<IPython.core.display.Math object>"
      ]
     },
     "metadata": {},
     "output_type": "display_data"
    },
    {
     "data": {
      "text/latex": [
       "$\\displaystyle H_{\\text{byte}} = 7.36 \\text{ бит}$"
      ],
      "text/plain": [
       "<IPython.core.display.Math object>"
      ]
     },
     "metadata": {},
     "output_type": "display_data"
    },
    {
     "data": {
      "text/latex": [
       "$\\displaystyle H_{\\text{total}} = 5980.57 \\text{ бит}$"
      ],
      "text/plain": [
       "<IPython.core.display.Math object>"
      ]
     },
     "metadata": {},
     "output_type": "display_data"
    },
    {
     "data": {
      "text/latex": [
       "$\\displaystyle \\text{Размер файла: } 6504 \\text{ бит}$"
      ],
      "text/plain": [
       "<IPython.core.display.Math object>"
      ]
     },
     "metadata": {},
     "output_type": "display_data"
    }
   ],
   "source": [
    "display(Math(r\"\\Large \\text{Лицензия MIT}\"))\n",
    "handle(\"content/MIT_license.txt\")\n",
    "display(Math(r\"\\large \\text{MIT\\_license.7z}\"))\n",
    "handle(\"content/MIT_license.7z\")\n",
    "display(Math(r\"\\large \\text{MIT\\_license.zip}\"))\n",
    "handle(\"content/MIT_license.zip\")"
   ]
  },
  {
   "cell_type": "markdown",
   "id": "26b7329b",
   "metadata": {},
   "source": [
    "Рассмотрим теперь растровые изображения в несжатом формате bmp."
   ]
  },
  {
   "cell_type": "code",
   "execution_count": 41,
   "id": "892d248a",
   "metadata": {},
   "outputs": [
    {
     "data": {
      "text/latex": [
       "$\\displaystyle \\Large \\text{Улитка}$"
      ],
      "text/plain": [
       "<IPython.core.display.Math object>"
      ]
     },
     "metadata": {},
     "output_type": "display_data"
    },
    {
     "data": {
      "text/latex": [
       "$\\displaystyle H_{\\text{byte}} = 1.84 \\text{ бит}$"
      ],
      "text/plain": [
       "<IPython.core.display.Math object>"
      ]
     },
     "metadata": {},
     "output_type": "display_data"
    },
    {
     "data": {
      "text/latex": [
       "$\\displaystyle H_{\\text{total}} = 362373.27 \\text{ бит}$"
      ],
      "text/plain": [
       "<IPython.core.display.Math object>"
      ]
     },
     "metadata": {},
     "output_type": "display_data"
    },
    {
     "data": {
      "text/latex": [
       "$\\displaystyle \\text{Размер файла: } 1573328 \\text{ бит}$"
      ],
      "text/plain": [
       "<IPython.core.display.Math object>"
      ]
     },
     "metadata": {},
     "output_type": "display_data"
    },
    {
     "data": {
      "text/latex": [
       "$\\displaystyle \\large \\text{snail.7z}$"
      ],
      "text/plain": [
       "<IPython.core.display.Math object>"
      ]
     },
     "metadata": {},
     "output_type": "display_data"
    },
    {
     "data": {
      "text/latex": [
       "$\\displaystyle H_{\\text{byte}} = 7.99 \\text{ бит}$"
      ],
      "text/plain": [
       "<IPython.core.display.Math object>"
      ]
     },
     "metadata": {},
     "output_type": "display_data"
    },
    {
     "data": {
      "text/latex": [
       "$\\displaystyle H_{\\text{total}} = 230838.10 \\text{ бит}$"
      ],
      "text/plain": [
       "<IPython.core.display.Math object>"
      ]
     },
     "metadata": {},
     "output_type": "display_data"
    },
    {
     "data": {
      "text/latex": [
       "$\\displaystyle \\text{Размер файла: } 231064 \\text{ бит}$"
      ],
      "text/plain": [
       "<IPython.core.display.Math object>"
      ]
     },
     "metadata": {},
     "output_type": "display_data"
    },
    {
     "data": {
      "text/latex": [
       "$\\displaystyle \\large \\text{snail.zip}$"
      ],
      "text/plain": [
       "<IPython.core.display.Math object>"
      ]
     },
     "metadata": {},
     "output_type": "display_data"
    },
    {
     "data": {
      "text/latex": [
       "$\\displaystyle H_{\\text{byte}} = 7.99 \\text{ бит}$"
      ],
      "text/plain": [
       "<IPython.core.display.Math object>"
      ]
     },
     "metadata": {},
     "output_type": "display_data"
    },
    {
     "data": {
      "text/latex": [
       "$\\displaystyle H_{\\text{total}} = 256908.06 \\text{ бит}$"
      ],
      "text/plain": [
       "<IPython.core.display.Math object>"
      ]
     },
     "metadata": {},
     "output_type": "display_data"
    },
    {
     "data": {
      "text/latex": [
       "$\\displaystyle \\text{Размер файла: } 257336 \\text{ бит}$"
      ],
      "text/plain": [
       "<IPython.core.display.Math object>"
      ]
     },
     "metadata": {},
     "output_type": "display_data"
    }
   ],
   "source": [
    "display(Math(r\"\\Large \\text{Улитка}\"))\n",
    "handle(\"content/snail.bmp\")\n",
    "display(Math(r\"\\large \\text{snail.7z}\"))\n",
    "handle(\"content/snail.7z\")\n",
    "display(Math(r\"\\large \\text{snail.zip}\"))\n",
    "handle(\"content/snail.zip\")"
   ]
  },
  {
   "cell_type": "markdown",
   "id": "d261856a",
   "metadata": {},
   "source": [
    "Из проведённых экспериментов видно, что сжатие файлов сильно повышает энтропию на байт данных,\n",
    "\n",
    "но при этом слабо влияет на общую энтропию файла. \n",
    "\n",
    "То есть файлы с меньшей энтропией сжимаются лучше.\n",
    "\n",
    "В случае с изображением получаем, что значение энтропии после сжатия почти достигает максимального значения в 8 бит."
   ]
  }
 ],
 "metadata": {
  "kernelspec": {
   "display_name": "Python 3",
   "language": "python",
   "name": "python3"
  },
  "language_info": {
   "codemirror_mode": {
    "name": "ipython",
    "version": 3
   },
   "file_extension": ".py",
   "mimetype": "text/x-python",
   "name": "python",
   "nbconvert_exporter": "python",
   "pygments_lexer": "ipython3",
   "version": "3.12.2"
  }
 },
 "nbformat": 4,
 "nbformat_minor": 5
}
